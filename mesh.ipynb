{
 "cells": [
  {
   "cell_type": "code",
   "execution_count": 1,
   "metadata": {},
   "outputs": [
    {
     "name": "stdout",
     "output_type": "stream",
     "text": [
      "Defaulting to user installation because normal site-packages is not writeable\n",
      "Collecting open3d\n",
      "  Downloading open3d-0.17.0-cp310-cp310-manylinux_2_27_x86_64.whl (420.5 MB)\n",
      "\u001b[2K     \u001b[38;2;114;156;31m━━━━━━━━━━━━━━━━━━━━━━━━━━━━━━━━━━━━━━━\u001b[0m \u001b[32m420.5/420.5 MB\u001b[0m \u001b[31m6.5 MB/s\u001b[0m eta \u001b[36m0:00:00\u001b[0mm eta \u001b[36m0:00:01\u001b[0m[36m0:00:01\u001b[0m\n",
      "\u001b[?25hCollecting werkzeug>=2.2.3\n",
      "  Downloading werkzeug-2.3.7-py3-none-any.whl (242 kB)\n",
      "\u001b[2K     \u001b[38;2;114;156;31m━━━━━━━━━━━━━━━━━━━━━━━━━━━━━━━━━━━━━━\u001b[0m \u001b[32m242.2/242.2 KB\u001b[0m \u001b[31m23.7 MB/s\u001b[0m eta \u001b[36m0:00:00\u001b[0m\n",
      "\u001b[?25hCollecting pillow>=9.3.0\n",
      "  Using cached Pillow-10.0.0-cp310-cp310-manylinux_2_28_x86_64.whl (3.4 MB)\n",
      "Collecting addict\n",
      "  Downloading addict-2.4.0-py3-none-any.whl (3.8 kB)\n",
      "Collecting dash>=2.6.0\n",
      "  Downloading dash-2.12.1-py3-none-any.whl (10.4 MB)\n",
      "\u001b[2K     \u001b[38;2;114;156;31m━━━━━━━━━━━━━━━━━━━━━━━━━━━━━━━━━━━━━━━━\u001b[0m \u001b[32m10.4/10.4 MB\u001b[0m \u001b[31m19.6 MB/s\u001b[0m eta \u001b[36m0:00:00\u001b[0mm eta \u001b[36m0:00:01\u001b[0m:01\u001b[0m:01\u001b[0m\n",
      "\u001b[?25hRequirement already satisfied: pyyaml>=5.4.1 in /usr/lib/python3/dist-packages (from open3d) (5.4.1)\n",
      "Collecting nbformat==5.7.0\n",
      "  Downloading nbformat-5.7.0-py3-none-any.whl (77 kB)\n",
      "\u001b[2K     \u001b[38;2;114;156;31m━━━━━━━━━━━━━━━━━━━━━━━━━━━━━━━━━━━━━━━━\u001b[0m \u001b[32m77.1/77.1 KB\u001b[0m \u001b[31m15.9 MB/s\u001b[0m eta \u001b[36m0:00:00\u001b[0m\n",
      "\u001b[?25hRequirement already satisfied: scikit-learn>=0.21 in /home/kingshark/.local/lib/python3.10/site-packages (from open3d) (1.2.0)\n",
      "Requirement already satisfied: numpy>=1.18.0 in /home/kingshark/.local/lib/python3.10/site-packages (from open3d) (1.23.4)\n",
      "Collecting configargparse\n",
      "  Downloading ConfigArgParse-1.7-py3-none-any.whl (25 kB)\n",
      "Requirement already satisfied: pandas>=1.0 in /home/kingshark/.local/lib/python3.10/site-packages (from open3d) (1.5.1)\n",
      "Requirement already satisfied: ipywidgets>=8.0.4 in /home/kingshark/.local/lib/python3.10/site-packages (from open3d) (8.0.6)\n",
      "Requirement already satisfied: tqdm in /home/kingshark/.local/lib/python3.10/site-packages (from open3d) (4.64.1)\n",
      "Requirement already satisfied: matplotlib>=3 in /home/kingshark/.local/lib/python3.10/site-packages (from open3d) (3.6.2)\n",
      "Collecting pyquaternion\n",
      "  Downloading pyquaternion-0.9.9-py3-none-any.whl (14 kB)\n",
      "Requirement already satisfied: fastjsonschema in /home/kingshark/.local/lib/python3.10/site-packages (from nbformat==5.7.0->open3d) (2.16.2)\n",
      "Requirement already satisfied: traitlets>=5.1 in /home/kingshark/.local/lib/python3.10/site-packages (from nbformat==5.7.0->open3d) (5.5.0)\n",
      "Requirement already satisfied: jsonschema>=2.6 in /usr/lib/python3/dist-packages (from nbformat==5.7.0->open3d) (3.2.0)\n",
      "Requirement already satisfied: jupyter-core in /home/kingshark/.local/lib/python3.10/site-packages (from nbformat==5.7.0->open3d) (4.11.2)\n",
      "Requirement already satisfied: typing-extensions>=4.1.1 in /home/kingshark/.local/lib/python3.10/site-packages (from dash>=2.6.0->open3d) (4.4.0)\n",
      "Requirement already satisfied: nest-asyncio in /home/kingshark/.local/lib/python3.10/site-packages (from dash>=2.6.0->open3d) (1.5.6)\n",
      "Collecting dash-html-components==2.0.0\n",
      "  Downloading dash_html_components-2.0.0-py3-none-any.whl (4.1 kB)\n",
      "Requirement already satisfied: plotly>=5.0.0 in /home/kingshark/.local/lib/python3.10/site-packages (from dash>=2.6.0->open3d) (5.11.0)\n",
      "Collecting retrying\n",
      "  Downloading retrying-1.3.4-py3-none-any.whl (11 kB)\n",
      "Collecting dash-table==5.0.0\n",
      "  Downloading dash_table-5.0.0-py3-none-any.whl (3.9 kB)\n",
      "Collecting ansi2html\n",
      "  Downloading ansi2html-1.8.0-py3-none-any.whl (16 kB)\n",
      "Collecting dash-core-components==2.0.0\n",
      "  Downloading dash_core_components-2.0.0-py3-none-any.whl (3.8 kB)\n",
      "Requirement already satisfied: requests in /usr/lib/python3/dist-packages (from dash>=2.6.0->open3d) (2.25.1)\n",
      "Collecting werkzeug>=2.2.3\n",
      "  Downloading Werkzeug-2.2.3-py3-none-any.whl (233 kB)\n",
      "\u001b[2K     \u001b[38;2;114;156;31m━━━━━━━━━━━━━━━━━━━━━━━━━━━━━━━━━━━━━━\u001b[0m \u001b[32m233.6/233.6 KB\u001b[0m \u001b[31m62.4 MB/s\u001b[0m eta \u001b[36m0:00:00\u001b[0m\n",
      "\u001b[?25hCollecting Flask<2.3.0,>=1.0.4\n",
      "  Downloading Flask-2.2.5-py3-none-any.whl (101 kB)\n",
      "\u001b[2K     \u001b[38;2;114;156;31m━━━━━━━━━━━━━━━━━━━━━━━━━━━━━━━━━━━━━━\u001b[0m \u001b[32m101.8/101.8 KB\u001b[0m \u001b[31m32.9 MB/s\u001b[0m eta \u001b[36m0:00:00\u001b[0m\n",
      "\u001b[?25hRequirement already satisfied: setuptools in /usr/lib/python3/dist-packages (from dash>=2.6.0->open3d) (59.6.0)\n",
      "Requirement already satisfied: ipykernel>=4.5.1 in /home/kingshark/.local/lib/python3.10/site-packages (from ipywidgets>=8.0.4->open3d) (6.17.0)\n",
      "Requirement already satisfied: jupyterlab-widgets~=3.0.7 in /home/kingshark/.local/lib/python3.10/site-packages (from ipywidgets>=8.0.4->open3d) (3.0.7)\n",
      "Requirement already satisfied: widgetsnbextension~=4.0.7 in /home/kingshark/.local/lib/python3.10/site-packages (from ipywidgets>=8.0.4->open3d) (4.0.7)\n",
      "Requirement already satisfied: ipython>=6.1.0 in /home/kingshark/.local/lib/python3.10/site-packages (from ipywidgets>=8.0.4->open3d) (8.6.0)\n",
      "Requirement already satisfied: contourpy>=1.0.1 in /home/kingshark/.local/lib/python3.10/site-packages (from matplotlib>=3->open3d) (1.0.6)\n",
      "Requirement already satisfied: pyparsing>=2.2.1 in /usr/lib/python3/dist-packages (from matplotlib>=3->open3d) (2.4.7)\n",
      "Requirement already satisfied: python-dateutil>=2.7 in /home/kingshark/.local/lib/python3.10/site-packages (from matplotlib>=3->open3d) (2.8.2)\n",
      "Requirement already satisfied: fonttools>=4.22.0 in /home/kingshark/.local/lib/python3.10/site-packages (from matplotlib>=3->open3d) (4.38.0)\n",
      "Requirement already satisfied: kiwisolver>=1.0.1 in /home/kingshark/.local/lib/python3.10/site-packages (from matplotlib>=3->open3d) (1.4.4)\n",
      "Requirement already satisfied: packaging>=20.0 in /home/kingshark/.local/lib/python3.10/site-packages (from matplotlib>=3->open3d) (21.3)\n",
      "Requirement already satisfied: cycler>=0.10 in /home/kingshark/.local/lib/python3.10/site-packages (from matplotlib>=3->open3d) (0.11.0)\n",
      "Requirement already satisfied: pytz>=2020.1 in /usr/lib/python3/dist-packages (from pandas>=1.0->open3d) (2022.1)\n",
      "Requirement already satisfied: joblib>=1.1.1 in /home/kingshark/.local/lib/python3.10/site-packages (from scikit-learn>=0.21->open3d) (1.2.0)\n",
      "Requirement already satisfied: scipy>=1.3.2 in /home/kingshark/.local/lib/python3.10/site-packages (from scikit-learn>=0.21->open3d) (1.9.3)\n",
      "Requirement already satisfied: threadpoolctl>=2.0.0 in /home/kingshark/.local/lib/python3.10/site-packages (from scikit-learn>=0.21->open3d) (3.1.0)\n",
      "Requirement already satisfied: MarkupSafe>=2.1.1 in /home/kingshark/.local/lib/python3.10/site-packages (from werkzeug>=2.2.3->open3d) (2.1.1)\n",
      "Collecting itsdangerous>=2.0\n",
      "  Downloading itsdangerous-2.1.2-py3-none-any.whl (15 kB)\n",
      "Requirement already satisfied: click>=8.0 in /usr/lib/python3/dist-packages (from Flask<2.3.0,>=1.0.4->dash>=2.6.0->open3d) (8.0.3)\n",
      "Requirement already satisfied: Jinja2>=3.0 in /home/kingshark/.local/lib/python3.10/site-packages (from Flask<2.3.0,>=1.0.4->dash>=2.6.0->open3d) (3.1.2)\n",
      "Requirement already satisfied: debugpy>=1.0 in /home/kingshark/.local/lib/python3.10/site-packages (from ipykernel>=4.5.1->ipywidgets>=8.0.4->open3d) (1.6.3)\n",
      "Requirement already satisfied: psutil in /home/kingshark/.local/lib/python3.10/site-packages (from ipykernel>=4.5.1->ipywidgets>=8.0.4->open3d) (5.9.3)\n",
      "Requirement already satisfied: matplotlib-inline>=0.1 in /home/kingshark/.local/lib/python3.10/site-packages (from ipykernel>=4.5.1->ipywidgets>=8.0.4->open3d) (0.1.6)\n",
      "Requirement already satisfied: jupyter-client>=6.1.12 in /home/kingshark/.local/lib/python3.10/site-packages (from ipykernel>=4.5.1->ipywidgets>=8.0.4->open3d) (7.4.4)\n",
      "Requirement already satisfied: tornado>=6.1 in /home/kingshark/.local/lib/python3.10/site-packages (from ipykernel>=4.5.1->ipywidgets>=8.0.4->open3d) (6.2)\n",
      "Requirement already satisfied: pyzmq>=17 in /home/kingshark/.local/lib/python3.10/site-packages (from ipykernel>=4.5.1->ipywidgets>=8.0.4->open3d) (24.0.1)\n",
      "Requirement already satisfied: pexpect>4.3 in /usr/lib/python3/dist-packages (from ipython>=6.1.0->ipywidgets>=8.0.4->open3d) (4.8.0)\n",
      "Requirement already satisfied: decorator in /home/kingshark/.local/lib/python3.10/site-packages (from ipython>=6.1.0->ipywidgets>=8.0.4->open3d) (5.1.1)\n",
      "Requirement already satisfied: pygments>=2.4.0 in /home/kingshark/.local/lib/python3.10/site-packages (from ipython>=6.1.0->ipywidgets>=8.0.4->open3d) (2.13.0)\n",
      "Requirement already satisfied: prompt-toolkit<3.1.0,>3.0.1 in /home/kingshark/.local/lib/python3.10/site-packages (from ipython>=6.1.0->ipywidgets>=8.0.4->open3d) (3.0.31)\n",
      "Requirement already satisfied: backcall in /home/kingshark/.local/lib/python3.10/site-packages (from ipython>=6.1.0->ipywidgets>=8.0.4->open3d) (0.2.0)\n",
      "Requirement already satisfied: jedi>=0.16 in /home/kingshark/.local/lib/python3.10/site-packages (from ipython>=6.1.0->ipywidgets>=8.0.4->open3d) (0.18.1)\n",
      "Requirement already satisfied: pickleshare in /home/kingshark/.local/lib/python3.10/site-packages (from ipython>=6.1.0->ipywidgets>=8.0.4->open3d) (0.7.5)\n",
      "Requirement already satisfied: stack-data in /home/kingshark/.local/lib/python3.10/site-packages (from ipython>=6.1.0->ipywidgets>=8.0.4->open3d) (0.6.0)\n",
      "Requirement already satisfied: tenacity>=6.2.0 in /home/kingshark/.local/lib/python3.10/site-packages (from plotly>=5.0.0->dash>=2.6.0->open3d) (8.1.0)\n",
      "Requirement already satisfied: six>=1.5 in /usr/lib/python3/dist-packages (from python-dateutil>=2.7->matplotlib>=3->open3d) (1.16.0)\n",
      "Requirement already satisfied: parso<0.9.0,>=0.8.0 in /home/kingshark/.local/lib/python3.10/site-packages (from jedi>=0.16->ipython>=6.1.0->ipywidgets>=8.0.4->open3d) (0.8.3)\n",
      "Requirement already satisfied: entrypoints in /home/kingshark/.local/lib/python3.10/site-packages (from jupyter-client>=6.1.12->ipykernel>=4.5.1->ipywidgets>=8.0.4->open3d) (0.4)\n",
      "Requirement already satisfied: wcwidth in /home/kingshark/.local/lib/python3.10/site-packages (from prompt-toolkit<3.1.0,>3.0.1->ipython>=6.1.0->ipywidgets>=8.0.4->open3d) (0.2.5)\n",
      "Requirement already satisfied: executing>=1.2.0 in /home/kingshark/.local/lib/python3.10/site-packages (from stack-data->ipython>=6.1.0->ipywidgets>=8.0.4->open3d) (1.2.0)\n",
      "Requirement already satisfied: asttokens>=2.1.0 in /home/kingshark/.local/lib/python3.10/site-packages (from stack-data->ipython>=6.1.0->ipywidgets>=8.0.4->open3d) (2.1.0)\n",
      "Requirement already satisfied: pure-eval in /home/kingshark/.local/lib/python3.10/site-packages (from stack-data->ipython>=6.1.0->ipywidgets>=8.0.4->open3d) (0.2.2)\n",
      "Installing collected packages: dash-table, dash-html-components, dash-core-components, addict, werkzeug, retrying, pyquaternion, pillow, itsdangerous, configargparse, ansi2html, nbformat, Flask, dash, open3d\n",
      "  Attempting uninstall: werkzeug\n",
      "    Found existing installation: Werkzeug 2.2.2\n",
      "    Uninstalling Werkzeug-2.2.2:\n",
      "      Successfully uninstalled Werkzeug-2.2.2\n",
      "  Attempting uninstall: nbformat\n",
      "    Found existing installation: nbformat 5.7.3\n",
      "    Uninstalling nbformat-5.7.3:\n",
      "      Successfully uninstalled nbformat-5.7.3\n",
      "Successfully installed Flask-2.2.5 addict-2.4.0 ansi2html-1.8.0 configargparse-1.7 dash-2.12.1 dash-core-components-2.0.0 dash-html-components-2.0.0 dash-table-5.0.0 itsdangerous-2.1.2 nbformat-5.7.0 open3d-0.17.0 pillow-10.0.0 pyquaternion-0.9.9 retrying-1.3.4 werkzeug-2.2.3\n"
     ]
    }
   ],
   "source": [
    "!pip install open3d"
   ]
  },
  {
   "cell_type": "code",
   "execution_count": 1,
   "metadata": {},
   "outputs": [
    {
     "name": "stdout",
     "output_type": "stream",
     "text": [
      "Jupyter environment detected. Enabling Open3D WebVisualizer.\n",
      "[Open3D INFO] WebRTC GUI backend enabled.\n",
      "[Open3D INFO] WebRTCWindowSystem: HTTP handshake server disabled.\n"
     ]
    }
   ],
   "source": [
    "import open3d as o3d\n",
    "import numpy as np\n",
    "from scipy.io import savemat"
   ]
  },
  {
   "cell_type": "code",
   "execution_count": 2,
   "metadata": {},
   "outputs": [],
   "source": [
    "# Load the stl file\n",
    "mesh = o3d.io.read_triangle_mesh('normalized_mesh9.stl')\n",
    "mesh.compute_vertex_normals()\n",
    "\n",
    "# fit to unit cube\n",
    "mesh.scale(1 / np.max(mesh.get_max_bound() - mesh.get_min_bound()),\n",
    "           center=mesh.get_center())\n",
    "o3d.visualization.draw_geometries([mesh])\n"
   ]
  },
  {
   "cell_type": "code",
   "execution_count": 3,
   "metadata": {},
   "outputs": [
    {
     "name": "stdout",
     "output_type": "stream",
     "text": [
      "voxelization\n",
      "VoxelGrid with 46408 voxels.\n"
     ]
    }
   ],
   "source": [
    "# Voxelize the stl file\n",
    "print('voxelization')\n",
    "voxel_grid = o3d.geometry.VoxelGrid.create_from_triangle_mesh(mesh,\n",
    "                                                              voxel_size=0.009)\n",
    "print(voxel_grid)\n",
    "o3d.visualization.draw_geometries([voxel_grid])"
   ]
  },
  {
   "cell_type": "code",
   "execution_count": 39,
   "metadata": {},
   "outputs": [
    {
     "name": "stderr",
     "output_type": "stream",
     "text": [
      "/tmp/ipykernel_13036/871901202.py:6: DeprecationWarning: `np.int` is a deprecated alias for the builtin `int`. To silence this warning, use `int` by itself. Doing this will not modify any behavior and is safe. When replacing `np.int`, you may wish to use e.g. `np.int64` or `np.int32` to specify the precision. If you wish to review your current use, check the release note link for additional information.\n",
      "Deprecated in NumPy 1.20; for more details and guidance: https://numpy.org/devdocs/release/1.20.0-notes.html#deprecations\n",
      "  voxel_matrix = np.zeros((128, 128, 128), dtype=np.int)\n"
     ]
    }
   ],
   "source": [
    "# Create the 3D matrix from voxels\n",
    "voxel_data = voxel_grid.get_voxels()\n",
    "voxel_matrix = np.zeros((128, 128, 128), dtype=int)\n",
    "for idx in voxel_data:\n",
    "    x, y, z = idx.grid_index\n",
    "    voxel_matrix[x, y, z] = 1\n",
    "\n",
    "savemat('voxel_matrix.mat', {'volume': voxel_matrix})"
   ]
  },
  {
   "cell_type": "code",
   "execution_count": 44,
   "metadata": {},
   "outputs": [],
   "source": [
    "import meshlib.mrmeshnumpy as mrn\n",
    "import meshlib.mrmeshpy as mr \n",
    "\n",
    "vol = voxel_matrix.astype(np.double)\n",
    "slice_to_plot = vol - vol.min() / vol.max() - vol.min()\n",
    "simple_vol = mrn.simpleVolumeFrom3Darray(slice_to_plot)\n",
    "float_grid = mr.simpleVolumeToDenseGrid(simple_vol)\n",
    "\n",
    "mesh = mr.gridToMesh(float_grid, mr.Vector3f(0.1, 0.1, 0.1), 0.5)\n",
    "\n",
    "mr.saveMesh(mesh, f'normalized_mesh_tooth.stl')\n"
   ]
  },
  {
   "cell_type": "code",
   "execution_count": 45,
   "metadata": {},
   "outputs": [],
   "source": [
    "mesh = o3d.io.read_triangle_mesh('normalized_mesh_tooth.stl')\n",
    "mesh.compute_vertex_normals()\n",
    "o3d.visualization.draw_geometries([mesh])"
   ]
  },
  {
   "cell_type": "markdown",
   "metadata": {},
   "source": [
    "# Convert NII to MAT file"
   ]
  },
  {
   "cell_type": "code",
   "execution_count": 1,
   "metadata": {},
   "outputs": [
    {
     "name": "stdout",
     "output_type": "stream",
     "text": [
      "Defaulting to user installation because normal site-packages is not writeable\n",
      "Requirement already satisfied: nibabel in /home/kingshark/.local/lib/python3.10/site-packages (5.1.0)\n",
      "\u001b[31mERROR: Could not find a version that satisfies the requirement as (from versions: none)\u001b[0m\u001b[31m\n",
      "\u001b[0m\u001b[31mERROR: No matching distribution found for as\u001b[0m\u001b[31m\n",
      "\u001b[0m"
     ]
    }
   ],
   "source": [
    "!pip install nibabel as nib"
   ]
  },
  {
   "cell_type": "code",
   "execution_count": 4,
   "metadata": {},
   "outputs": [
    {
     "name": "stdout",
     "output_type": "stream",
     "text": [
      "Converted NidhiSeg60.nii to NidhiSeg60.mat with shape : (128, 128, 128)\n",
      "Converted NidhiSeg41.nii to NidhiSeg41.mat with shape : (128, 128, 128)\n",
      "Converted RekhaSegB146.nii to RekhaSegB146.mat with shape : (128, 128, 128)\n",
      "Converted AruSegB163.nii to AruSegB163.mat with shape : (128, 128, 128)\n",
      "Converted AruSegB114.nii to AruSegB114.mat with shape : (128, 128, 128)\n",
      "Converted NidhiSeg48.nii to NidhiSeg48.mat with shape : (128, 128, 128)\n",
      "Converted RekhaSegB133.nii to RekhaSegB133.mat with shape : (128, 128, 128)\n",
      "Converted AruSegB18.nii to AruSegB18.mat with shape : (128, 128, 128)\n",
      "Converted NidhiSeg75.nii to NidhiSeg75.mat with shape : (128, 128, 128)\n",
      "Converted NidhiSeg55.nii to NidhiSeg55.mat with shape : (128, 128, 128)\n",
      "Converted RekhaSegB148.nii to RekhaSegB148.mat with shape : (128, 128, 128)\n",
      "Converted NidhiSeg134.nii to NidhiSeg134.mat with shape : (128, 128, 128)\n",
      "Converted NidhiSeg103.nii to NidhiSeg103.mat with shape : (128, 128, 128)\n",
      "Converted RekhaSegB123.nii to RekhaSegB123.mat with shape : (128, 128, 128)\n",
      "Converted RekhaSegB125.nii to RekhaSegB125.mat with shape : (128, 128, 128)\n",
      "Converted NidhiSeg42.nii to NidhiSeg42.mat with shape : (128, 128, 128)\n",
      "Converted NidhiSeg2.nii to NidhiSeg2.mat with shape : (128, 128, 128)\n",
      "Converted RekhaSegB16.nii to RekhaSegB16.mat with shape : (128, 128, 128)\n",
      "Converted RekhaSegB138.nii to RekhaSegB138.mat with shape : (128, 128, 128)\n",
      "Converted RekhaSegB15.nii to RekhaSegB15.mat with shape : (128, 128, 128)\n",
      "Converted NidhiSeg105.nii to NidhiSeg105.mat with shape : (128, 128, 128)\n",
      "Converted NidhiSeg117.nii to NidhiSeg117.mat with shape : (128, 128, 128)\n",
      "Converted AruSegB1108.nii to AruSegB1108.mat with shape : (128, 128, 128)\n",
      "Converted RekhaSegB111.nii to RekhaSegB111.mat with shape : (128, 128, 128)\n",
      "Converted AruSegB150.nii to AruSegB150.mat with shape : (128, 128, 128)\n",
      "Converted AruSegB136.nii to AruSegB136.mat with shape : (128, 128, 128)\n",
      "Converted NidhiSeg121.nii to NidhiSeg121.mat with shape : (128, 128, 128)\n",
      "Converted NidhiSeg116.nii to NidhiSeg116.mat with shape : (128, 128, 128)\n",
      "Converted AruSegB166.nii to AruSegB166.mat with shape : (128, 128, 128)\n",
      "Converted NidhiSeg13.nii to NidhiSeg13.mat with shape : (128, 128, 128)\n",
      "Converted AruSegB112.nii to AruSegB112.mat with shape : (128, 128, 128)\n",
      "Converted NidhiSeg7.nii to NidhiSeg7.mat with shape : (128, 128, 128)\n",
      "Converted AruSegB125.nii to AruSegB125.mat with shape : (128, 128, 128)\n",
      "Converted RekhaSegB169.nii to RekhaSegB169.mat with shape : (128, 128, 128)\n",
      "Converted NidhiSeg43.nii to NidhiSeg43.mat with shape : (128, 128, 128)\n",
      "Converted AruSegB16.nii to AruSegB16.mat with shape : (128, 128, 128)\n",
      "Converted RekhaSegB152.nii to RekhaSegB152.mat with shape : (128, 128, 128)\n"
     ]
    },
    {
     "ename": "KeyboardInterrupt",
     "evalue": "",
     "output_type": "error",
     "traceback": [
      "\u001b[0;31m---------------------------------------------------------------------------\u001b[0m",
      "\u001b[0;31mKeyboardInterrupt\u001b[0m                         Traceback (most recent call last)",
      "\u001b[1;32m/mnt/sda5/home/work/dentech/vae_vol/Variational-AutoEncoder/mesh.ipynb Cell 10\u001b[0m in \u001b[0;36m2\n\u001b[1;32m     <a href='vscode-notebook-cell:/mnt/sda5/home/work/dentech/vae_vol/Variational-AutoEncoder/mesh.ipynb#X12sZmlsZQ%3D%3D?line=24'>25</a>\u001b[0m     mat_file_path \u001b[39m=\u001b[39m os\u001b[39m.\u001b[39mpath\u001b[39m.\u001b[39mjoin(destination_folder, os\u001b[39m.\u001b[39mpath\u001b[39m.\u001b[39msplitext(nii_file)[\u001b[39m0\u001b[39m] \u001b[39m+\u001b[39m \u001b[39m'\u001b[39m\u001b[39m.mat\u001b[39m\u001b[39m'\u001b[39m)\n\u001b[1;32m     <a href='vscode-notebook-cell:/mnt/sda5/home/work/dentech/vae_vol/Variational-AutoEncoder/mesh.ipynb#X12sZmlsZQ%3D%3D?line=26'>27</a>\u001b[0m     \u001b[39m# Save the data to MATLAB file\u001b[39;00m\n\u001b[0;32m---> <a href='vscode-notebook-cell:/mnt/sda5/home/work/dentech/vae_vol/Variational-AutoEncoder/mesh.ipynb#X12sZmlsZQ%3D%3D?line=27'>28</a>\u001b[0m     sio\u001b[39m.\u001b[39;49msavemat(mat_file_path, data_dict)\n\u001b[1;32m     <a href='vscode-notebook-cell:/mnt/sda5/home/work/dentech/vae_vol/Variational-AutoEncoder/mesh.ipynb#X12sZmlsZQ%3D%3D?line=29'>30</a>\u001b[0m     \u001b[39mprint\u001b[39m(\u001b[39mf\u001b[39m\u001b[39m\"\u001b[39m\u001b[39mConverted \u001b[39m\u001b[39m{\u001b[39;00mnii_file\u001b[39m}\u001b[39;00m\u001b[39m to \u001b[39m\u001b[39m{\u001b[39;00mos\u001b[39m.\u001b[39mpath\u001b[39m.\u001b[39mbasename(mat_file_path)\u001b[39m}\u001b[39;00m\u001b[39m with shape : \u001b[39m\u001b[39m{\u001b[39;00mnii_data\u001b[39m.\u001b[39mshape\u001b[39m}\u001b[39;00m\u001b[39m\"\u001b[39m)\n\u001b[1;32m     <a href='vscode-notebook-cell:/mnt/sda5/home/work/dentech/vae_vol/Variational-AutoEncoder/mesh.ipynb#X12sZmlsZQ%3D%3D?line=31'>32</a>\u001b[0m \u001b[39mprint\u001b[39m(\u001b[39m\"\u001b[39m\u001b[39mConversion completed.\u001b[39m\u001b[39m\"\u001b[39m)\n",
      "File \u001b[0;32m~/.local/lib/python3.10/site-packages/scipy/io/matlab/_mio.py:298\u001b[0m, in \u001b[0;36msavemat\u001b[0;34m(file_name, mdict, appendmat, format, long_field_names, do_compression, oned_as)\u001b[0m\n\u001b[1;32m    296\u001b[0m \u001b[39melse\u001b[39;00m:\n\u001b[1;32m    297\u001b[0m     \u001b[39mraise\u001b[39;00m \u001b[39mValueError\u001b[39;00m(\u001b[39m\"\u001b[39m\u001b[39mFormat should be \u001b[39m\u001b[39m'\u001b[39m\u001b[39m4\u001b[39m\u001b[39m'\u001b[39m\u001b[39m or \u001b[39m\u001b[39m'\u001b[39m\u001b[39m5\u001b[39m\u001b[39m'\u001b[39m\u001b[39m\"\u001b[39m)\n\u001b[0;32m--> 298\u001b[0m MW\u001b[39m.\u001b[39;49mput_variables(mdict)\n",
      "File \u001b[0;32m~/.local/lib/python3.10/site-packages/scipy/io/matlab/_mio5.py:892\u001b[0m, in \u001b[0;36mMatFile5Writer.put_variables\u001b[0;34m(self, mdict, write_header)\u001b[0m\n\u001b[1;32m    890\u001b[0m     \u001b[39mself\u001b[39m\u001b[39m.\u001b[39mfile_stream\u001b[39m.\u001b[39mwrite(out_str)\n\u001b[1;32m    891\u001b[0m \u001b[39melse\u001b[39;00m:  \u001b[39m# not compressing\u001b[39;00m\n\u001b[0;32m--> 892\u001b[0m     \u001b[39mself\u001b[39;49m\u001b[39m.\u001b[39;49m_matrix_writer\u001b[39m.\u001b[39;49mwrite_top(var, name\u001b[39m.\u001b[39;49mencode(\u001b[39m'\u001b[39;49m\u001b[39mlatin1\u001b[39;49m\u001b[39m'\u001b[39;49m), is_global)\n",
      "File \u001b[0;32m~/.local/lib/python3.10/site-packages/scipy/io/matlab/_mio5.py:633\u001b[0m, in \u001b[0;36mVarWriter5.write_top\u001b[0;34m(self, arr, name, is_global)\u001b[0m\n\u001b[1;32m    631\u001b[0m \u001b[39mself\u001b[39m\u001b[39m.\u001b[39m_var_name \u001b[39m=\u001b[39m name\n\u001b[1;32m    632\u001b[0m \u001b[39m# write the header and data\u001b[39;00m\n\u001b[0;32m--> 633\u001b[0m \u001b[39mself\u001b[39;49m\u001b[39m.\u001b[39;49mwrite(arr)\n",
      "File \u001b[0;32m~/.local/lib/python3.10/site-packages/scipy/io/matlab/_mio5.py:672\u001b[0m, in \u001b[0;36mVarWriter5.write\u001b[0;34m(self, arr)\u001b[0m\n\u001b[1;32m    670\u001b[0m     \u001b[39mself\u001b[39m\u001b[39m.\u001b[39mwrite_char(narr, codec)\n\u001b[1;32m    671\u001b[0m \u001b[39melse\u001b[39;00m:\n\u001b[0;32m--> 672\u001b[0m     \u001b[39mself\u001b[39;49m\u001b[39m.\u001b[39;49mwrite_numeric(narr)\n\u001b[1;32m    673\u001b[0m \u001b[39mself\u001b[39m\u001b[39m.\u001b[39mupdate_matrix_tag(mat_tag_pos)\n",
      "File \u001b[0;32m~/.local/lib/python3.10/site-packages/scipy/io/matlab/_mio5.py:698\u001b[0m, in \u001b[0;36mVarWriter5.write_numeric\u001b[0;34m(self, arr)\u001b[0m\n\u001b[1;32m    696\u001b[0m     \u001b[39mself\u001b[39m\u001b[39m.\u001b[39mwrite_element(arr\u001b[39m.\u001b[39mimag)\n\u001b[1;32m    697\u001b[0m \u001b[39melse\u001b[39;00m:\n\u001b[0;32m--> 698\u001b[0m     \u001b[39mself\u001b[39;49m\u001b[39m.\u001b[39;49mwrite_element(arr)\n",
      "File \u001b[0;32m~/.local/lib/python3.10/site-packages/scipy/io/matlab/_mio5.py:539\u001b[0m, in \u001b[0;36mVarWriter5.write_element\u001b[0;34m(self, arr, mdtype)\u001b[0m\n\u001b[1;32m    537\u001b[0m     \u001b[39mself\u001b[39m\u001b[39m.\u001b[39mwrite_smalldata_element(arr, mdtype, byte_count)\n\u001b[1;32m    538\u001b[0m \u001b[39melse\u001b[39;00m:\n\u001b[0;32m--> 539\u001b[0m     \u001b[39mself\u001b[39;49m\u001b[39m.\u001b[39;49mwrite_regular_element(arr, mdtype, byte_count)\n",
      "File \u001b[0;32m~/.local/lib/python3.10/site-packages/scipy/io/matlab/_mio5.py:555\u001b[0m, in \u001b[0;36mVarWriter5.write_regular_element\u001b[0;34m(self, arr, mdtype, byte_count)\u001b[0m\n\u001b[1;32m    553\u001b[0m tag[\u001b[39m'\u001b[39m\u001b[39mbyte_count\u001b[39m\u001b[39m'\u001b[39m] \u001b[39m=\u001b[39m byte_count\n\u001b[1;32m    554\u001b[0m \u001b[39mself\u001b[39m\u001b[39m.\u001b[39mwrite_bytes(tag)\n\u001b[0;32m--> 555\u001b[0m \u001b[39mself\u001b[39;49m\u001b[39m.\u001b[39;49mwrite_bytes(arr)\n\u001b[1;32m    556\u001b[0m \u001b[39m# pad to next 64-bit boundary\u001b[39;00m\n\u001b[1;32m    557\u001b[0m bc_mod_8 \u001b[39m=\u001b[39m byte_count \u001b[39m%\u001b[39m \u001b[39m8\u001b[39m\n",
      "File \u001b[0;32m~/.local/lib/python3.10/site-packages/scipy/io/matlab/_mio5.py:523\u001b[0m, in \u001b[0;36mVarWriter5.write_bytes\u001b[0;34m(self, arr)\u001b[0m\n\u001b[1;32m    522\u001b[0m \u001b[39mdef\u001b[39;00m \u001b[39mwrite_bytes\u001b[39m(\u001b[39mself\u001b[39m, arr):\n\u001b[0;32m--> 523\u001b[0m     \u001b[39mself\u001b[39m\u001b[39m.\u001b[39mfile_stream\u001b[39m.\u001b[39mwrite(arr\u001b[39m.\u001b[39;49mtobytes(order\u001b[39m=\u001b[39;49m\u001b[39m'\u001b[39;49m\u001b[39mF\u001b[39;49m\u001b[39m'\u001b[39;49m))\n",
      "\u001b[0;31mKeyboardInterrupt\u001b[0m: "
     ]
    }
   ],
   "source": [
    "import nibabel as nib\n",
    "import matplotlib.pyplot as plt\n",
    "import scipy.io as sio\n",
    "import os\n",
    "\n",
    "# Loading the files\n",
    "source_folder = \"voxel_data/Cropped\"\n",
    "destination_folder = \"voxel_data/processed_data/\" \n",
    "# Create the destination folder if it doesn't exist\n",
    "if not os.path.exists(destination_folder):\n",
    "    os.makedirs(destination_folder)\n",
    "\n",
    "# List all files in the source folder\n",
    "nii_files = [file for file in os.listdir(source_folder) if file.endswith('.nii')]\n",
    "\n",
    "for nii_file in nii_files:\n",
    "    nii_file_path = os.path.join(source_folder, nii_file)\n",
    "    nii_img = nib.load(nii_file_path)\n",
    "    nii_data = nii_img.get_fdata()\n",
    "    \n",
    "    # Create a dictionary to hold the data\n",
    "    data_dict = {'tensor': nii_data}\n",
    "    \n",
    "    # Define the destination MATLAB file path\n",
    "    mat_file_path = os.path.join(destination_folder, os.path.splitext(nii_file)[0] + '.mat')\n",
    "    \n",
    "    # Save the data to MATLAB file\n",
    "    sio.savemat(mat_file_path, data_dict)\n",
    "    \n",
    "    print(f\"Converted {nii_file} to {os.path.basename(mat_file_path)} with shape : {nii_data.shape}\")\n",
    "\n",
    "print(\"Conversion completed.\")"
   ]
  },
  {
   "cell_type": "code",
   "execution_count": null,
   "metadata": {},
   "outputs": [],
   "source": []
  }
 ],
 "metadata": {
  "kernelspec": {
   "display_name": "Python 3",
   "language": "python",
   "name": "python3"
  },
  "language_info": {
   "codemirror_mode": {
    "name": "ipython",
    "version": 3
   },
   "file_extension": ".py",
   "mimetype": "text/x-python",
   "name": "python",
   "nbconvert_exporter": "python",
   "pygments_lexer": "ipython3",
   "version": "3.10.12"
  },
  "orig_nbformat": 4
 },
 "nbformat": 4,
 "nbformat_minor": 2
}
